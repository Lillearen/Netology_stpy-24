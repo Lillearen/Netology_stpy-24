{
 "cells": [
  {
   "cell_type": "code",
   "execution_count": 1,
   "id": "1b0e2f8d",
   "metadata": {},
   "outputs": [],
   "source": [
    "import numpy as np"
   ]
  },
  {
   "cell_type": "code",
   "execution_count": 2,
   "id": "d18e71ce",
   "metadata": {},
   "outputs": [
    {
     "name": "stdout",
     "output_type": "stream",
     "text": [
      "Игрок заплатил:  100000\n",
      "Игрок выиграл:  84756\n",
      "Игрок в минусе на:  15244\n",
      "Игрок теряет за одну игру: 0.15244\n"
     ]
    }
   ],
   "source": [
    "trials = 100000\n",
    "cost = 0\n",
    "prize = 0\n",
    "\n",
    "for i in range(trials):\n",
    "    x = np.random.randint(0, 1000)\n",
    "    cost += 1\n",
    "    if x == 777:\n",
    "        prize += 200\n",
    "    elif x == 999:\n",
    "        prize += 100\n",
    "    elif x == 555:\n",
    "        prize += 50\n",
    "    elif x == 333:\n",
    "        prize += 15\n",
    "    elif x == 111:\n",
    "        prize += 10\n",
    "    elif x%100 == 77:\n",
    "        prize += 5\n",
    "    elif x%10 == 7:\n",
    "        prize += 3\n",
    "    elif x%100 == 0:\n",
    "        prize += 2\n",
    "    elif x%10 == 0:\n",
    "        prize += 1\n",
    "print('Игрок заплатил: ', cost)\n",
    "print('Игрок выиграл: ', prize)\n",
    "print('Игрок в минусе на: ', cost - prize)\n",
    "print('Игрок теряет за одну игру:', (cost - prize)/trials)"
   ]
  }
 ],
 "metadata": {
  "kernelspec": {
   "display_name": "Python 3",
   "language": "python",
   "name": "python3"
  },
  "language_info": {
   "codemirror_mode": {
    "name": "ipython",
    "version": 3
   },
   "file_extension": ".py",
   "mimetype": "text/x-python",
   "name": "python",
   "nbconvert_exporter": "python",
   "pygments_lexer": "ipython3",
   "version": "3.9.4"
  }
 },
 "nbformat": 4,
 "nbformat_minor": 5
}
